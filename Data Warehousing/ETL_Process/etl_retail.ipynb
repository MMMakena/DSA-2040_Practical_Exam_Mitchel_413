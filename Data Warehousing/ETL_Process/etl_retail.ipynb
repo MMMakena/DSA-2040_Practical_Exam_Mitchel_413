{
 "cells": [
  {
   "cell_type": "markdown",
   "id": "b9ecac83",
   "metadata": {},
   "source": [
    "## Extraction"
   ]
  },
  {
   "cell_type": "code",
   "execution_count": 11,
   "id": "71ea1548",
   "metadata": {},
   "outputs": [],
   "source": [
    "# import necessary libraries\n",
    "import pandas as pd \n",
    "from datetime import datetime, timedelta\n",
    "import sqlite3"
   ]
  },
  {
   "cell_type": "code",
   "execution_count": 12,
   "id": "c195e6d4",
   "metadata": {},
   "outputs": [
    {
     "name": "stderr",
     "output_type": "stream",
     "text": [
      "C:\\Users\\Makena\\AppData\\Local\\Temp\\ipykernel_11280\\1915802556.py:9: SettingWithCopyWarning: \n",
      "A value is trying to be set on a copy of a slice from a DataFrame.\n",
      "Try using .loc[row_indexer,col_indexer] = value instead\n",
      "\n",
      "See the caveats in the documentation: https://pandas.pydata.org/pandas-docs/stable/user_guide/indexing.html#returning-a-view-versus-a-copy\n",
      "  df_clean['InvoiceDate'] = pd.to_datetime(df_clean['InvoiceDate'])\n"
     ]
    },
    {
     "data": {
      "application/vnd.microsoft.datawrangler.viewer.v0+json": {
       "columns": [
        {
         "name": "index",
         "rawType": "int64",
         "type": "integer"
        },
        {
         "name": "InvoiceNo",
         "rawType": "object",
         "type": "unknown"
        },
        {
         "name": "StockCode",
         "rawType": "object",
         "type": "unknown"
        },
        {
         "name": "Description",
         "rawType": "object",
         "type": "string"
        },
        {
         "name": "Quantity",
         "rawType": "int64",
         "type": "integer"
        },
        {
         "name": "InvoiceDate",
         "rawType": "datetime64[ns]",
         "type": "datetime"
        },
        {
         "name": "UnitPrice",
         "rawType": "float64",
         "type": "float"
        },
        {
         "name": "CustomerID",
         "rawType": "float64",
         "type": "float"
        },
        {
         "name": "Country",
         "rawType": "object",
         "type": "string"
        }
       ],
       "ref": "6b2e81c4-2b50-430b-a6c7-d3cf4bed138f",
       "rows": [
        [
         "0",
         "536365",
         "85123A",
         "WHITE HANGING HEART T-LIGHT HOLDER",
         "6",
         "2010-12-01 08:26:00",
         "2.55",
         "17850.0",
         "United Kingdom"
        ],
        [
         "1",
         "536365",
         "71053",
         "WHITE METAL LANTERN",
         "6",
         "2010-12-01 08:26:00",
         "3.39",
         "17850.0",
         "United Kingdom"
        ],
        [
         "2",
         "536365",
         "84406B",
         "CREAM CUPID HEARTS COAT HANGER",
         "8",
         "2010-12-01 08:26:00",
         "2.75",
         "17850.0",
         "United Kingdom"
        ],
        [
         "3",
         "536365",
         "84029G",
         "KNITTED UNION FLAG HOT WATER BOTTLE",
         "6",
         "2010-12-01 08:26:00",
         "3.39",
         "17850.0",
         "United Kingdom"
        ],
        [
         "4",
         "536365",
         "84029E",
         "RED WOOLLY HOTTIE WHITE HEART.",
         "6",
         "2010-12-01 08:26:00",
         "3.39",
         "17850.0",
         "United Kingdom"
        ]
       ],
       "shape": {
        "columns": 8,
        "rows": 5
       }
      },
      "text/html": [
       "<div>\n",
       "<style scoped>\n",
       "    .dataframe tbody tr th:only-of-type {\n",
       "        vertical-align: middle;\n",
       "    }\n",
       "\n",
       "    .dataframe tbody tr th {\n",
       "        vertical-align: top;\n",
       "    }\n",
       "\n",
       "    .dataframe thead th {\n",
       "        text-align: right;\n",
       "    }\n",
       "</style>\n",
       "<table border=\"1\" class=\"dataframe\">\n",
       "  <thead>\n",
       "    <tr style=\"text-align: right;\">\n",
       "      <th></th>\n",
       "      <th>InvoiceNo</th>\n",
       "      <th>StockCode</th>\n",
       "      <th>Description</th>\n",
       "      <th>Quantity</th>\n",
       "      <th>InvoiceDate</th>\n",
       "      <th>UnitPrice</th>\n",
       "      <th>CustomerID</th>\n",
       "      <th>Country</th>\n",
       "    </tr>\n",
       "  </thead>\n",
       "  <tbody>\n",
       "    <tr>\n",
       "      <th>0</th>\n",
       "      <td>536365</td>\n",
       "      <td>85123A</td>\n",
       "      <td>WHITE HANGING HEART T-LIGHT HOLDER</td>\n",
       "      <td>6</td>\n",
       "      <td>2010-12-01 08:26:00</td>\n",
       "      <td>2.55</td>\n",
       "      <td>17850.0</td>\n",
       "      <td>United Kingdom</td>\n",
       "    </tr>\n",
       "    <tr>\n",
       "      <th>1</th>\n",
       "      <td>536365</td>\n",
       "      <td>71053</td>\n",
       "      <td>WHITE METAL LANTERN</td>\n",
       "      <td>6</td>\n",
       "      <td>2010-12-01 08:26:00</td>\n",
       "      <td>3.39</td>\n",
       "      <td>17850.0</td>\n",
       "      <td>United Kingdom</td>\n",
       "    </tr>\n",
       "    <tr>\n",
       "      <th>2</th>\n",
       "      <td>536365</td>\n",
       "      <td>84406B</td>\n",
       "      <td>CREAM CUPID HEARTS COAT HANGER</td>\n",
       "      <td>8</td>\n",
       "      <td>2010-12-01 08:26:00</td>\n",
       "      <td>2.75</td>\n",
       "      <td>17850.0</td>\n",
       "      <td>United Kingdom</td>\n",
       "    </tr>\n",
       "    <tr>\n",
       "      <th>3</th>\n",
       "      <td>536365</td>\n",
       "      <td>84029G</td>\n",
       "      <td>KNITTED UNION FLAG HOT WATER BOTTLE</td>\n",
       "      <td>6</td>\n",
       "      <td>2010-12-01 08:26:00</td>\n",
       "      <td>3.39</td>\n",
       "      <td>17850.0</td>\n",
       "      <td>United Kingdom</td>\n",
       "    </tr>\n",
       "    <tr>\n",
       "      <th>4</th>\n",
       "      <td>536365</td>\n",
       "      <td>84029E</td>\n",
       "      <td>RED WOOLLY HOTTIE WHITE HEART.</td>\n",
       "      <td>6</td>\n",
       "      <td>2010-12-01 08:26:00</td>\n",
       "      <td>3.39</td>\n",
       "      <td>17850.0</td>\n",
       "      <td>United Kingdom</td>\n",
       "    </tr>\n",
       "  </tbody>\n",
       "</table>\n",
       "</div>"
      ],
      "text/plain": [
       "  InvoiceNo StockCode                          Description  Quantity  \\\n",
       "0    536365    85123A   WHITE HANGING HEART T-LIGHT HOLDER         6   \n",
       "1    536365     71053                  WHITE METAL LANTERN         6   \n",
       "2    536365    84406B       CREAM CUPID HEARTS COAT HANGER         8   \n",
       "3    536365    84029G  KNITTED UNION FLAG HOT WATER BOTTLE         6   \n",
       "4    536365    84029E       RED WOOLLY HOTTIE WHITE HEART.         6   \n",
       "\n",
       "          InvoiceDate  UnitPrice  CustomerID         Country  \n",
       "0 2010-12-01 08:26:00       2.55     17850.0  United Kingdom  \n",
       "1 2010-12-01 08:26:00       3.39     17850.0  United Kingdom  \n",
       "2 2010-12-01 08:26:00       2.75     17850.0  United Kingdom  \n",
       "3 2010-12-01 08:26:00       3.39     17850.0  United Kingdom  \n",
       "4 2010-12-01 08:26:00       3.39     17850.0  United Kingdom  "
      ]
     },
     "execution_count": 12,
     "metadata": {},
     "output_type": "execute_result"
    }
   ],
   "source": [
    "# Read the Online Retail Excel file into a pandas DataFrame\n",
    "file_path = r'C:\\Users\\Makena\\OneDrive\\Desktop\\USIU\\2nd Summer sem\\DWM\\End sem\\DSA-2040_Practical_Exam_Mitchel_413\\Data Warehousing\\ETL_Process\\raw\\Online Retail.xlsx'\n",
    "df = pd.read_excel(file_path)\n",
    "\n",
    "# Handle missing values by dropping rows with any missing data\n",
    "df_clean = df.dropna()\n",
    "\n",
    "# Convert 'InvoiceDate' column to datetime format\n",
    "df_clean['InvoiceDate'] = pd.to_datetime(df_clean['InvoiceDate'])\n",
    "\n",
    "# Display the first few rows to verify\n",
    "df_clean.head()"
   ]
  },
  {
   "cell_type": "markdown",
   "id": "041d05a2",
   "metadata": {},
   "source": [
    "## Transform"
   ]
  },
  {
   "cell_type": "code",
   "execution_count": 13,
   "id": "b35c7245",
   "metadata": {},
   "outputs": [
    {
     "name": "stderr",
     "output_type": "stream",
     "text": [
      "C:\\Users\\Makena\\AppData\\Local\\Temp\\ipykernel_11280\\2995298126.py:2: SettingWithCopyWarning: \n",
      "A value is trying to be set on a copy of a slice from a DataFrame.\n",
      "Try using .loc[row_indexer,col_indexer] = value instead\n",
      "\n",
      "See the caveats in the documentation: https://pandas.pydata.org/pandas-docs/stable/user_guide/indexing.html#returning-a-view-versus-a-copy\n",
      "  df_clean['TotalSales'] = df_clean['Quantity'] * df_clean['UnitPrice']\n"
     ]
    },
    {
     "name": "stdout",
     "output_type": "stream",
     "text": [
      "Rows after dropna: 406829\n",
      "Rows after removing outliers: 397884\n",
      "InvoiceDate range: 2010-12-01 08:26:00 to 2011-12-09 12:50:00\n",
      "Rows after date filter: 0\n",
      "No rows in the last year, using most recent year in data instead.\n",
      "Rows in most recent year: 384529\n"
     ]
    },
    {
     "data": {
      "application/vnd.microsoft.datawrangler.viewer.v0+json": {
       "columns": [
        {
         "name": "index",
         "rawType": "int64",
         "type": "integer"
        },
        {
         "name": "CustomerID",
         "rawType": "float64",
         "type": "float"
        },
        {
         "name": "TotalPurchases",
         "rawType": "float64",
         "type": "float"
        },
        {
         "name": "Country",
         "rawType": "object",
         "type": "string"
        }
       ],
       "ref": "315a80cd-47e6-4f38-a424-d80c0f6b000e",
       "rows": [
        [
         "0",
         "12346.0",
         "77183.6",
         "United Kingdom"
        ],
        [
         "1",
         "12347.0",
         "3598.21",
         "Iceland"
        ],
        [
         "2",
         "12348.0",
         "1797.24",
         "Finland"
        ],
        [
         "3",
         "12349.0",
         "1757.55",
         "Italy"
        ],
        [
         "4",
         "12350.0",
         "334.4",
         "Norway"
        ]
       ],
       "shape": {
        "columns": 3,
        "rows": 5
       }
      },
      "text/html": [
       "<div>\n",
       "<style scoped>\n",
       "    .dataframe tbody tr th:only-of-type {\n",
       "        vertical-align: middle;\n",
       "    }\n",
       "\n",
       "    .dataframe tbody tr th {\n",
       "        vertical-align: top;\n",
       "    }\n",
       "\n",
       "    .dataframe thead th {\n",
       "        text-align: right;\n",
       "    }\n",
       "</style>\n",
       "<table border=\"1\" class=\"dataframe\">\n",
       "  <thead>\n",
       "    <tr style=\"text-align: right;\">\n",
       "      <th></th>\n",
       "      <th>CustomerID</th>\n",
       "      <th>TotalPurchases</th>\n",
       "      <th>Country</th>\n",
       "    </tr>\n",
       "  </thead>\n",
       "  <tbody>\n",
       "    <tr>\n",
       "      <th>0</th>\n",
       "      <td>12346.0</td>\n",
       "      <td>77183.60</td>\n",
       "      <td>United Kingdom</td>\n",
       "    </tr>\n",
       "    <tr>\n",
       "      <th>1</th>\n",
       "      <td>12347.0</td>\n",
       "      <td>3598.21</td>\n",
       "      <td>Iceland</td>\n",
       "    </tr>\n",
       "    <tr>\n",
       "      <th>2</th>\n",
       "      <td>12348.0</td>\n",
       "      <td>1797.24</td>\n",
       "      <td>Finland</td>\n",
       "    </tr>\n",
       "    <tr>\n",
       "      <th>3</th>\n",
       "      <td>12349.0</td>\n",
       "      <td>1757.55</td>\n",
       "      <td>Italy</td>\n",
       "    </tr>\n",
       "    <tr>\n",
       "      <th>4</th>\n",
       "      <td>12350.0</td>\n",
       "      <td>334.40</td>\n",
       "      <td>Norway</td>\n",
       "    </tr>\n",
       "  </tbody>\n",
       "</table>\n",
       "</div>"
      ],
      "text/plain": [
       "   CustomerID  TotalPurchases         Country\n",
       "0     12346.0        77183.60  United Kingdom\n",
       "1     12347.0         3598.21         Iceland\n",
       "2     12348.0         1797.24         Finland\n",
       "3     12349.0         1757.55           Italy\n",
       "4     12350.0          334.40          Norway"
      ]
     },
     "execution_count": 13,
     "metadata": {},
     "output_type": "execute_result"
    }
   ],
   "source": [
    "# Calculate TotalSales column\n",
    "df_clean['TotalSales'] = df_clean['Quantity'] * df_clean['UnitPrice']\n",
    "\n",
    "print('Rows after dropna:', len(df_clean))\n",
    "\n",
    "# Remove outliers: Quantity < 0 or UnitPrice <= 0\n",
    "df_clean = df_clean[(df_clean['Quantity'] >= 0) & (df_clean['UnitPrice'] > 0)]\n",
    "print('Rows after removing outliers:', len(df_clean))\n",
    "\n",
    "# Check min and max InvoiceDate\n",
    "print('InvoiceDate range:', df_clean['InvoiceDate'].min(), 'to', df_clean['InvoiceDate'].max())\n",
    "\n",
    "# Try to filter data for sales in the last year (from 2024-08-12 to 2025-08-12)\n",
    "current_date = pd.Timestamp('2025-08-12')\n",
    "one_year_ago = current_date - pd.Timedelta(days=365)\n",
    "df_last_year = df_clean[(df_clean['InvoiceDate'] >= one_year_ago) & (df_clean['InvoiceDate'] <= current_date)]\n",
    "print('Rows after date filter:', len(df_last_year))\n",
    "\n",
    "# If no rows, use the most recent year in the data\n",
    "if df_last_year.empty:\n",
    "    print('No rows in the last year, using most recent year in data instead.')\n",
    "    max_date = df_clean['InvoiceDate'].max()\n",
    "    min_date = max_date - pd.Timedelta(days=365)\n",
    "    df_last_year = df_clean[(df_clean['InvoiceDate'] >= min_date) & (df_clean['InvoiceDate'] <= max_date)]\n",
    "    print('Rows in most recent year:', len(df_last_year))\n",
    "\n",
    "# Create customer summary: total purchases and country\n",
    "customer_summary = df_last_year.groupby('CustomerID').agg(\n",
    "    TotalPurchases=('TotalSales', 'sum'),\n",
    "    Country=('Country', 'first')\n",
    ").reset_index()\n",
    "\n",
    "# Display the first few rows of the customer summary\n",
    "customer_summary.head()"
   ]
  },
  {
   "cell_type": "markdown",
   "id": "a6e53b91",
   "metadata": {},
   "source": [
    "## Load"
   ]
  },
  {
   "cell_type": "code",
   "execution_count": 14,
   "id": "d51337db",
   "metadata": {},
   "outputs": [
    {
     "name": "stdout",
     "output_type": "stream",
     "text": [
      "Data loaded into SQLite database: C:\\Users\\Makena\\OneDrive\\Desktop\\USIU\\2nd Summer sem\\DWM\\End sem\\DSA-2040_Practical_Exam_Mitchel_413\\Data Warehousing\\ETL_Process\\retail_dw.db\n"
     ]
    }
   ],
   "source": [
    "# Create SQLite database and load data into fact and dimension tables\n",
    "import os\n",
    "\n",
    "# Define absolute database file path\n",
    "db_dir = r'C:\\Users\\Makena\\OneDrive\\Desktop\\USIU\\2nd Summer sem\\DWM\\End sem\\DSA-2040_Practical_Exam_Mitchel_413\\Data Warehousing\\ETL_Process'\n",
    "db_path = os.path.join(db_dir, 'retail_dw.db')\n",
    "\n",
    "# Ensure the directory exists\n",
    "os.makedirs(db_dir, exist_ok=True)\n",
    "\n",
    "# Remove existing database for a clean start (optional)\n",
    "if os.path.exists(db_path):\n",
    "    os.remove(db_path)\n",
    "\n",
    "conn = sqlite3.connect(db_path)\n",
    "\n",
    "# Prepare CustomerDim\n",
    "customer_dim = customer_summary[['CustomerID', 'Country']].drop_duplicates().copy()\n",
    "customer_dim.to_sql('CustomerDim', conn, index=False, if_exists='replace')\n",
    "\n",
    "# Prepare TimeDim\n",
    "time_dim = df_last_year[['InvoiceDate']].drop_duplicates().copy()\n",
    "time_dim['TimeID'] = time_dim['InvoiceDate'].astype(str)\n",
    "time_dim['Year'] = time_dim['InvoiceDate'].dt.year\n",
    "time_dim['Month'] = time_dim['InvoiceDate'].dt.month\n",
    "time_dim['Day'] = time_dim['InvoiceDate'].dt.day\n",
    "time_dim.to_sql('TimeDim', conn, index=False, if_exists='replace')\n",
    "\n",
    "# Prepare SalesFact\n",
    "sales_fact = df_last_year[['InvoiceNo', 'StockCode', 'CustomerID', 'Quantity', 'UnitPrice', 'TotalSales', 'InvoiceDate']].copy()\n",
    "sales_fact['TimeID'] = sales_fact['InvoiceDate'].astype(str)\n",
    "sales_fact.to_sql('SalesFact', conn, index=False, if_exists='replace')\n",
    "\n",
    "conn.close()\n",
    "print(f'Data loaded into SQLite database: {db_path}')"
   ]
  },
  {
   "cell_type": "code",
   "execution_count": 15,
   "id": "786c186a",
   "metadata": {},
   "outputs": [
    {
     "name": "stdout",
     "output_type": "stream",
     "text": [
      "CSV files generated: SalesFact.csv, CustomerDim.csv, TimeDim.csv\n"
     ]
    }
   ],
   "source": [
    "# Export the contents of the SQLite tables to CSV files\n",
    "\n",
    "# Define database file path\n",
    "db_path = r'C:\\Users\\Makena\\OneDrive\\Desktop\\USIU\\2nd Summer sem\\DWM\\End sem\\DSA-2040_Practical_Exam_Mitchel_413\\Data Warehousing\\ETL_Process\\retail_dw.db'\n",
    "\n",
    "conn = sqlite3.connect(db_path)\n",
    "\n",
    "# Export SalesFact\n",
    "sales_fact_df = pd.read_sql_query('SELECT * FROM SalesFact', conn)\n",
    "sales_fact_df.to_csv('SalesFact.csv', index=False)\n",
    "\n",
    "# Export CustomerDim\n",
    "customer_dim_df = pd.read_sql_query('SELECT * FROM CustomerDim', conn)\n",
    "customer_dim_df.to_csv('CustomerDim.csv', index=False)\n",
    "\n",
    "# Export TimeDim\n",
    "time_dim_df = pd.read_sql_query('SELECT * FROM TimeDim', conn)\n",
    "time_dim_df.to_csv('TimeDim.csv', index=False)\n",
    "\n",
    "conn.close()\n",
    "print('CSV files generated: SalesFact.csv, CustomerDim.csv, TimeDim.csv')"
   ]
  },
  {
   "cell_type": "markdown",
   "id": "fdb1a035",
   "metadata": {},
   "source": [
    "## Full ETL process"
   ]
  },
  {
   "cell_type": "code",
   "execution_count": 16,
   "id": "ded0c223",
   "metadata": {},
   "outputs": [],
   "source": [
    "def full_etl_process(excel_path, db_path):\n",
    "    import pandas as pd\n",
    "    import sqlite3\n",
    "    import os\n",
    "\n",
    "    print('Starting ETL process...')\n",
    "\n",
    "    # Extraction\n",
    "    df = pd.read_excel(excel_path)\n",
    "    print(f'Rows after extraction: {len(df)}')\n",
    "\n",
    "    # Drop missing values\n",
    "    df_clean = df.dropna()\n",
    "    print(f'Rows after dropna: {len(df_clean)}')\n",
    "\n",
    "    # Convert InvoiceDate to datetime\n",
    "    df_clean['InvoiceDate'] = pd.to_datetime(df_clean['InvoiceDate'])\n",
    "\n",
    "    # Transformation\n",
    "    df_clean['TotalSales'] = df_clean['Quantity'] * df_clean['UnitPrice']\n",
    "    df_clean = df_clean[(df_clean['Quantity'] >= 0) & (df_clean['UnitPrice'] > 0)]\n",
    "    print(f'Rows after removing outliers: {len(df_clean)}')\n"
   ]
  }
 ],
 "metadata": {
  "kernelspec": {
   "display_name": "Python 3",
   "language": "python",
   "name": "python3"
  },
  "language_info": {
   "codemirror_mode": {
    "name": "ipython",
    "version": 3
   },
   "file_extension": ".py",
   "mimetype": "text/x-python",
   "name": "python",
   "nbconvert_exporter": "python",
   "pygments_lexer": "ipython3",
   "version": "3.11.4"
  }
 },
 "nbformat": 4,
 "nbformat_minor": 5
}
